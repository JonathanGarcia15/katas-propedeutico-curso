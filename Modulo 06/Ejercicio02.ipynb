{
 "cells": [
  {
   "cell_type": "code",
   "execution_count": 1,
   "metadata": {},
   "outputs": [],
   "source": [
    "planets = ['Mercury', 'Venus', 'Earth', 'Mars', 'Jupiter', 'Saturn', 'Neptune']"
   ]
  },
  {
   "cell_type": "code",
   "execution_count": 4,
   "metadata": {},
   "outputs": [
    {
     "name": "stdout",
     "output_type": "stream",
     "text": [
      "Earth\n"
     ]
    }
   ],
   "source": [
    "namePlanet = input('Ingresa un nombre de algún planeta, empezando la primera letra con mayúscula. ')\n",
    "print (namePlanet)"
   ]
  },
  {
   "cell_type": "code",
   "execution_count": 7,
   "metadata": {},
   "outputs": [
    {
     "name": "stdout",
     "output_type": "stream",
     "text": [
      "Los planetas más cercanos a sol de  Earth  son:  ['Mercury', 'Venus']\n"
     ]
    }
   ],
   "source": [
    "planet_index = planets.index(namePlanet)\n",
    "#print (planet_index)\n",
    "planets_before_namePlanet = planets[0:planet_index]\n",
    "print('Los planetas más cercanos a sol de ', planets[planet_index], ' son: ', planets_before_namePlanet)"
   ]
  },
  {
   "cell_type": "code",
   "execution_count": 14,
   "metadata": {},
   "outputs": [
    {
     "name": "stdout",
     "output_type": "stream",
     "text": [
      "Los planetas más alejados del sol de  Earth  son:  ['Mars', 'Jupiter', 'Saturn', 'Neptune']\n"
     ]
    }
   ],
   "source": [
    "planets_before_namePlanet = planets[planet_index+1:len(planets)]\n",
    "print('Los planetas más alejados del sol de ', planets[planet_index], ' son: ', planets_before_namePlanet)"
   ]
  }
 ],
 "metadata": {
  "interpreter": {
   "hash": "7e2ef142b19e7a0c99a95cf203249f070e6b2cde3928ec9ef76c3b4e0f95a26a"
  },
  "kernelspec": {
   "display_name": "Python 3.10.2 64-bit",
   "language": "python",
   "name": "python3"
  },
  "language_info": {
   "codemirror_mode": {
    "name": "ipython",
    "version": 3
   },
   "file_extension": ".py",
   "mimetype": "text/x-python",
   "name": "python",
   "nbconvert_exporter": "python",
   "pygments_lexer": "ipython3",
   "version": "3.10.2"
  },
  "orig_nbformat": 4
 },
 "nbformat": 4,
 "nbformat_minor": 2
}
