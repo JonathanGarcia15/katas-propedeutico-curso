{
 "cells": [
  {
   "cell_type": "code",
   "execution_count": 1,
   "metadata": {},
   "outputs": [],
   "source": [
    "Tierra = 149597870 \n",
    "Jupiter = 778547200"
   ]
  },
  {
   "cell_type": "code",
   "execution_count": 4,
   "metadata": {},
   "outputs": [
    {
     "name": "stdout",
     "output_type": "stream",
     "text": [
      "La distancia entre planetas es: 628949330 km\n"
     ]
    }
   ],
   "source": [
    "print (f\"La distancia entre planetas es: {Jupiter - Tierra} km\")"
   ]
  },
  {
   "cell_type": "code",
   "execution_count": 3,
   "metadata": {},
   "outputs": [
    {
     "name": "stdout",
     "output_type": "stream",
     "text": [
      "La distancia entre planetas es: 390577533.93 millas\n"
     ]
    }
   ],
   "source": [
    "print (f\"La distancia entre planetas es: {(Jupiter - Tierra)*0.621} millas\")"
   ]
  }
 ],
 "metadata": {
  "interpreter": {
   "hash": "7e2ef142b19e7a0c99a95cf203249f070e6b2cde3928ec9ef76c3b4e0f95a26a"
  },
  "kernelspec": {
   "display_name": "Python 3.10.2 64-bit",
   "language": "python",
   "name": "python3"
  },
  "language_info": {
   "codemirror_mode": {
    "name": "ipython",
    "version": 3
   },
   "file_extension": ".py",
   "mimetype": "text/x-python",
   "name": "python",
   "nbconvert_exporter": "python",
   "pygments_lexer": "ipython3",
   "version": "3.10.2"
  },
  "orig_nbformat": 4
 },
 "nbformat": 4,
 "nbformat_minor": 2
}
