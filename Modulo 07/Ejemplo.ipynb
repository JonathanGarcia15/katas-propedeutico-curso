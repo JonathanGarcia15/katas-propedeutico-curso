{
 "cells": [
  {
   "cell_type": "code",
   "execution_count": 2,
   "metadata": {},
   "outputs": [],
   "source": [
    "new_planet = \"\"\n",
    "\n",
    "planets = []"
   ]
  },
  {
   "cell_type": "code",
   "execution_count": 3,
   "metadata": {},
   "outputs": [],
   "source": [
    "while new_planet.lower() != 'done':\n",
    "    new_planet = input('Ingresa el nombre del planeta, cuando termines escribe \\\"done\\\"')\n",
    "    if new_planet != \"done\":\n",
    "        planets.append(new_planet)\n",
    "\n",
    "#print (planets)"
   ]
  },
  {
   "cell_type": "code",
   "execution_count": 4,
   "metadata": {},
   "outputs": [
    {
     "name": "stdout",
     "output_type": "stream",
     "text": [
      "Mercury\n",
      "Venus\n",
      "Earth\n"
     ]
    }
   ],
   "source": [
    "for x in planets:\n",
    "    print (x)"
   ]
  }
 ],
 "metadata": {
  "interpreter": {
   "hash": "7e2ef142b19e7a0c99a95cf203249f070e6b2cde3928ec9ef76c3b4e0f95a26a"
  },
  "kernelspec": {
   "display_name": "Python 3.10.2 64-bit",
   "language": "python",
   "name": "python3"
  },
  "language_info": {
   "codemirror_mode": {
    "name": "ipython",
    "version": 3
   },
   "file_extension": ".py",
   "mimetype": "text/x-python",
   "name": "python",
   "nbconvert_exporter": "python",
   "pygments_lexer": "ipython3",
   "version": "3.10.2"
  },
  "orig_nbformat": 4
 },
 "nbformat": 4,
 "nbformat_minor": 2
}
